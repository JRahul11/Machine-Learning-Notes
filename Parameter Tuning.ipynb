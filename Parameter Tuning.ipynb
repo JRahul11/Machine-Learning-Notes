{
 "cells": [
  {
   "cell_type": "code",
   "execution_count": 1,
   "metadata": {},
   "outputs": [],
   "source": [
    "# SVR Hyper Parameter Tuning\n",
    "import numpy as np\n",
    "import pandas as pd \n",
    "import matplotlib.pyplot as plt\n",
    "from sklearn.datasets import load_boston"
   ]
  },
  {
   "cell_type": "code",
   "execution_count": 2,
   "metadata": {},
   "outputs": [],
   "source": [
    "boston_p = load_boston()\n",
    "x = boston_p.data\n",
    "y = boston_p.target"
   ]
  },
  {
   "cell_type": "code",
   "execution_count": 6,
   "metadata": {},
   "outputs": [],
   "source": [
    "from sklearn.svm import SVR\n",
    "from sklearn.model_selection import GridSearchCV"
   ]
  },
  {
   "cell_type": "code",
   "execution_count": 7,
   "metadata": {},
   "outputs": [],
   "source": [
    "parameters = {'kernel':['rbf', 'linear'], 'gamma':[1, 0.1, 0.01]}"
   ]
  },
  {
   "cell_type": "code",
   "execution_count": 8,
   "metadata": {},
   "outputs": [],
   "source": [
    "grid = GridSearchCV(SVR(), parameters, refit=True, verbose=2, scoring='neg_mean_squared_error')"
   ]
  },
  {
   "cell_type": "code",
   "execution_count": 9,
   "metadata": {},
   "outputs": [
    {
     "name": "stdout",
     "output_type": "stream",
     "text": [
      "Fitting 5 folds for each of 6 candidates, totalling 30 fits\n",
      "[CV] END ................................gamma=1, kernel=rbf; total time=   0.0s\n",
      "[CV] END ................................gamma=1, kernel=rbf; total time=   0.0s\n",
      "[CV] END ................................gamma=1, kernel=rbf; total time=   0.0s\n",
      "[CV] END ................................gamma=1, kernel=rbf; total time=   0.0s\n",
      "[CV] END ................................gamma=1, kernel=rbf; total time=   0.0s\n",
      "[CV] END .............................gamma=1, kernel=linear; total time=   6.4s\n",
      "[CV] END .............................gamma=1, kernel=linear; total time=   6.0s\n",
      "[CV] END .............................gamma=1, kernel=linear; total time=   9.9s\n",
      "[CV] END .............................gamma=1, kernel=linear; total time=  10.1s\n",
      "[CV] END .............................gamma=1, kernel=linear; total time=   5.8s\n",
      "[CV] END ..............................gamma=0.1, kernel=rbf; total time=   0.0s\n",
      "[CV] END ..............................gamma=0.1, kernel=rbf; total time=   0.0s\n",
      "[CV] END ..............................gamma=0.1, kernel=rbf; total time=   0.0s\n",
      "[CV] END ..............................gamma=0.1, kernel=rbf; total time=   0.0s\n",
      "[CV] END ..............................gamma=0.1, kernel=rbf; total time=   0.0s\n",
      "[CV] END ...........................gamma=0.1, kernel=linear; total time=   7.0s\n",
      "[CV] END ...........................gamma=0.1, kernel=linear; total time=   6.0s\n",
      "[CV] END ...........................gamma=0.1, kernel=linear; total time=  11.3s\n",
      "[CV] END ...........................gamma=0.1, kernel=linear; total time=   9.1s\n",
      "[CV] END ...........................gamma=0.1, kernel=linear; total time=   5.8s\n",
      "[CV] END .............................gamma=0.01, kernel=rbf; total time=   0.0s\n",
      "[CV] END .............................gamma=0.01, kernel=rbf; total time=   0.0s\n",
      "[CV] END .............................gamma=0.01, kernel=rbf; total time=   0.0s\n",
      "[CV] END .............................gamma=0.01, kernel=rbf; total time=   0.0s\n",
      "[CV] END .............................gamma=0.01, kernel=rbf; total time=   0.0s\n",
      "[CV] END ..........................gamma=0.01, kernel=linear; total time=   6.3s\n",
      "[CV] END ..........................gamma=0.01, kernel=linear; total time=   5.3s\n",
      "[CV] END ..........................gamma=0.01, kernel=linear; total time=   6.2s\n",
      "[CV] END ..........................gamma=0.01, kernel=linear; total time=   8.9s\n",
      "[CV] END ..........................gamma=0.01, kernel=linear; total time=   4.5s\n"
     ]
    },
    {
     "data": {
      "text/plain": [
       "GridSearchCV(estimator=SVR(),\n",
       "             param_grid={'gamma': [1, 0.1, 0.01], 'kernel': ['rbf', 'linear']},\n",
       "             scoring='neg_mean_squared_error', verbose=2)"
      ]
     },
     "execution_count": 9,
     "metadata": {},
     "output_type": "execute_result"
    }
   ],
   "source": [
    "grid.fit(x, y)"
   ]
  },
  {
   "cell_type": "code",
   "execution_count": 10,
   "metadata": {},
   "outputs": [],
   "source": [
    "best_params = grid.best_params_"
   ]
  },
  {
   "cell_type": "code",
   "execution_count": null,
   "metadata": {},
   "outputs": [],
   "source": []
  },
  {
   "cell_type": "code",
   "execution_count": 11,
   "metadata": {},
   "outputs": [],
   "source": [
    "# KNN Hyper Parameter Tuning\n",
    "import numpy as np\n",
    "import pandas as pd\n",
    "import matplotlib.pyplot as plt\n",
    "from sklearn.datasets import load_iris"
   ]
  },
  {
   "cell_type": "code",
   "execution_count": 12,
   "metadata": {},
   "outputs": [],
   "source": [
    "iris = load_iris()\n",
    "x = iris.data\n",
    "y = iris.target"
   ]
  },
  {
   "cell_type": "code",
   "execution_count": 13,
   "metadata": {},
   "outputs": [],
   "source": [
    "from sklearn.model_selection import train_test_split\n",
    "x_train, x_test, y_train, y_test = train_test_split(x, y, test_size=0.3, train_size=0.7, random_state=22, shuffle=True, stratify=y)"
   ]
  },
  {
   "cell_type": "code",
   "execution_count": 15,
   "metadata": {},
   "outputs": [],
   "source": [
    "from sklearn.neighbors import KNeighborsClassifier"
   ]
  },
  {
   "cell_type": "code",
   "execution_count": 24,
   "metadata": {},
   "outputs": [],
   "source": [
    "kNN_accuracy_test = []\n",
    "for k in range(1, 50):\n",
    "    kNN = KNeighborsClassifier(n_neighbors=k, metric='minkowski', p=1)\n",
    "    kNN.fit(x_train, y_train)\n",
    "    kNN_accuracy_test.append(kNN.score(x_test, y_test))"
   ]
  },
  {
   "cell_type": "code",
   "execution_count": 25,
   "metadata": {},
   "outputs": [
    {
     "data": {
      "image/png": "[encoded data removed]",
      "text/plain": [
       "<Figure size 432x288 with 1 Axes>"
      ]
     },
     "metadata": {
      "needs_background": "light"
     },
     "output_type": "display_data"
    }
   ],
   "source": [
    "plt.plot(np.arange(1, 50), kNN_accuracy_test, label='test')\n",
    "plt.xlabel('k')\n",
    "plt.ylabel('score')\n",
    "plt.show()"
   ]
  },
  {
   "cell_type": "code",
   "execution_count": null,
   "metadata": {},
   "outputs": [],
   "source": []
  },
  {
   "cell_type": "code",
   "execution_count": 27,
   "metadata": {},
   "outputs": [],
   "source": [
    "# Overfitting and Underfitting\n",
    "kNN_accuracy_train = []\n",
    "kNN_accuracy_test = []\n",
    "\n",
    "for k in range(1, 50):\n",
    "    kNN = KNeighborsClassifier(n_neighbors=k, metric='minkowski', p=1)\n",
    "    kNN.fit(x_train, y_train)\n",
    "    kNN_accuracy_train.append(kNN.score(x_train, y_train))\n",
    "    kNN_accuracy_test.append( kNN.score(x_test, y_test))"
   ]
  },
  {
   "cell_type": "code",
   "execution_count": 28,
   "metadata": {},
   "outputs": [
    {
     "data": {
      "image/png": "[encoded data removed]",
      "text/plain": [
       "<Figure size 432x288 with 1 Axes>"
      ]
     },
     "metadata": {
      "needs_background": "light"
     },
     "output_type": "display_data"
    }
   ],
   "source": [
    "plt.plot(np.arange(1, 50), kNN_accuracy_train, label='train')\n",
    "plt.plot(np.arange(1, 50), kNN_accuracy_test, label='test')\n",
    "plt.xlabel('k')\n",
    "plt.ylabel('score')\n",
    "plt.show()"
   ]
  },
  {
   "cell_type": "code",
   "execution_count": null,
   "metadata": {},
   "outputs": [],
   "source": []
  }
 ],
 "metadata": {
  "interpreter": {
   "hash": "63fd5069d213b44bf678585dea6b12cceca9941eaf7f819626cde1f2670de90d"
  },
  "kernelspec": {
   "display_name": "Python 3.9.6 64-bit",
   "name": "python3"
  },
  "language_info": {
   "codemirror_mode": {
    "name": "ipython",
    "version": 3
   },
   "file_extension": ".py",
   "mimetype": "text/x-python",
   "name": "python",
   "nbconvert_exporter": "python",
   "pygments_lexer": "ipython3",
   "version": "3.9.6"
  },
  "orig_nbformat": 4
 },
 "nbformat": 4,
 "nbformat_minor": 2
}
