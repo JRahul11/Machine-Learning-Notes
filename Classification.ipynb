{
 "cells": [
  {
   "cell_type": "code",
   "execution_count": 2,
   "source": [
    "import numpy as np\r\n",
    "import pandas as pd\r\n",
    "import matplotlib.pyplot as plt\r\n",
    "from sklearn.datasets import load_iris"
   ],
   "outputs": [],
   "metadata": {}
  },
  {
   "cell_type": "code",
   "execution_count": 3,
   "source": [
    "iris = load_iris()\r\n",
    "# print(iris)"
   ],
   "outputs": [],
   "metadata": {}
  },
  {
   "cell_type": "code",
   "execution_count": 3,
   "source": [
    "print(iris.feature_names)"
   ],
   "outputs": [
    {
     "output_type": "stream",
     "name": "stdout",
     "text": [
      "['sepal length (cm)', 'sepal width (cm)', 'petal length (cm)', 'petal width (cm)']\n"
     ]
    }
   ],
   "metadata": {}
  },
  {
   "cell_type": "code",
   "execution_count": 4,
   "source": [
    "data_iris = iris.data\r\n",
    "# print(data_iris)"
   ],
   "outputs": [],
   "metadata": {}
  },
  {
   "cell_type": "code",
   "execution_count": 5,
   "source": [
    "data_iris = pd.DataFrame(data_iris, columns = iris.feature_names)\r\n",
    "print(data_iris)"
   ],
   "outputs": [
    {
     "output_type": "stream",
     "name": "stdout",
     "text": [
      "     sepal length (cm)  sepal width (cm)  petal length (cm)  petal width (cm)\n",
      "0                  5.1               3.5                1.4               0.2\n",
      "1                  4.9               3.0                1.4               0.2\n",
      "2                  4.7               3.2                1.3               0.2\n",
      "3                  4.6               3.1                1.5               0.2\n",
      "4                  5.0               3.6                1.4               0.2\n",
      "..                 ...               ...                ...               ...\n",
      "145                6.7               3.0                5.2               2.3\n",
      "146                6.3               2.5                5.0               1.9\n",
      "147                6.5               3.0                5.2               2.0\n",
      "148                6.2               3.4                5.4               2.3\n",
      "149                5.9               3.0                5.1               1.8\n",
      "\n",
      "[150 rows x 4 columns]\n"
     ]
    }
   ],
   "metadata": {}
  },
  {
   "cell_type": "code",
   "execution_count": 6,
   "source": [
    "data_iris['label'] = iris.target\r\n",
    "print(data_iris)"
   ],
   "outputs": [
    {
     "output_type": "stream",
     "name": "stdout",
     "text": [
      "     sepal length (cm)  sepal width (cm)  petal length (cm)  petal width (cm)  \\\n",
      "0                  5.1               3.5                1.4               0.2   \n",
      "1                  4.9               3.0                1.4               0.2   \n",
      "2                  4.7               3.2                1.3               0.2   \n",
      "3                  4.6               3.1                1.5               0.2   \n",
      "4                  5.0               3.6                1.4               0.2   \n",
      "..                 ...               ...                ...               ...   \n",
      "145                6.7               3.0                5.2               2.3   \n",
      "146                6.3               2.5                5.0               1.9   \n",
      "147                6.5               3.0                5.2               2.0   \n",
      "148                6.2               3.4                5.4               2.3   \n",
      "149                5.9               3.0                5.1               1.8   \n",
      "\n",
      "     label  \n",
      "0        0  \n",
      "1        0  \n",
      "2        0  \n",
      "3        0  \n",
      "4        0  \n",
      "..     ...  \n",
      "145      2  \n",
      "146      2  \n",
      "147      2  \n",
      "148      2  \n",
      "149      2  \n",
      "\n",
      "[150 rows x 5 columns]\n"
     ]
    }
   ],
   "metadata": {}
  },
  {
   "cell_type": "code",
   "execution_count": 7,
   "source": [
    "plt.scatter(data_iris.iloc[:, 2], data_iris.iloc[:, 3], c = iris.target)\r\n",
    "plt.xlabel(\"Petal Length (cm)\")\r\n",
    "plt.ylabel(\"Petal Width (cm)\")\r\n",
    "plt.show()"
   ],
   "outputs": [
    {
     "output_type": "display_data",
     "data": {
      "image/png": "[encoded data removed]",
      "text/plain": [
       "<Figure size 432x288 with 1 Axes>"
      ]
     },
     "metadata": {
      "needs_background": "light"
     }
    }
   ],
   "metadata": {}
  },
  {
   "cell_type": "code",
   "execution_count": 8,
   "source": [
    "x = data_iris.iloc[:, 0:4]\r\n",
    "print(x)"
   ],
   "outputs": [
    {
     "output_type": "stream",
     "name": "stdout",
     "text": [
      "     sepal length (cm)  sepal width (cm)  petal length (cm)  petal width (cm)\n",
      "0                  5.1               3.5                1.4               0.2\n",
      "1                  4.9               3.0                1.4               0.2\n",
      "2                  4.7               3.2                1.3               0.2\n",
      "3                  4.6               3.1                1.5               0.2\n",
      "4                  5.0               3.6                1.4               0.2\n",
      "..                 ...               ...                ...               ...\n",
      "145                6.7               3.0                5.2               2.3\n",
      "146                6.3               2.5                5.0               1.9\n",
      "147                6.5               3.0                5.2               2.0\n",
      "148                6.2               3.4                5.4               2.3\n",
      "149                5.9               3.0                5.1               1.8\n",
      "\n",
      "[150 rows x 4 columns]\n"
     ]
    }
   ],
   "metadata": {}
  },
  {
   "cell_type": "code",
   "execution_count": 9,
   "source": [
    "y = data_iris.iloc[:, 4]\r\n",
    "print(y)"
   ],
   "outputs": [
    {
     "output_type": "stream",
     "name": "stdout",
     "text": [
      "0      0\n",
      "1      0\n",
      "2      0\n",
      "3      0\n",
      "4      0\n",
      "      ..\n",
      "145    2\n",
      "146    2\n",
      "147    2\n",
      "148    2\n",
      "149    2\n",
      "Name: label, Length: 150, dtype: int32\n"
     ]
    }
   ],
   "metadata": {}
  },
  {
   "cell_type": "code",
   "execution_count": null,
   "source": [],
   "outputs": [],
   "metadata": {}
  },
  {
   "cell_type": "code",
   "execution_count": 10,
   "source": [
    "# K-NN Classifier\r\n",
    "from sklearn.neighbors import KNeighborsClassifier"
   ],
   "outputs": [],
   "metadata": {}
  },
  {
   "cell_type": "code",
   "execution_count": 11,
   "source": [
    "kNN = KNeighborsClassifier(n_neighbors = 6, metric = 'minkowski', p = 1)\r\n",
    "kNN.fit(x, y)"
   ],
   "outputs": [
    {
     "output_type": "execute_result",
     "data": {
      "text/plain": [
       "KNeighborsClassifier(n_neighbors=6, p=1)"
      ]
     },
     "metadata": {},
     "execution_count": 11
    }
   ],
   "metadata": {}
  },
  {
   "cell_type": "code",
   "execution_count": 12,
   "source": [
    "x_new = np.array([[5.6, 3.4, 1.4, 0.1]])"
   ],
   "outputs": [],
   "metadata": {}
  },
  {
   "cell_type": "code",
   "execution_count": 13,
   "source": [
    "kNN.predict(x_new)"
   ],
   "outputs": [
    {
     "output_type": "execute_result",
     "data": {
      "text/plain": [
       "array([0])"
      ]
     },
     "metadata": {},
     "execution_count": 13
    }
   ],
   "metadata": {}
  },
  {
   "cell_type": "code",
   "execution_count": 14,
   "source": [
    "x2_new = np.array([[7.5, 4, 5.5, 2]])"
   ],
   "outputs": [],
   "metadata": {}
  },
  {
   "cell_type": "code",
   "execution_count": 15,
   "source": [
    "kNN.predict(x2_new)"
   ],
   "outputs": [
    {
     "output_type": "execute_result",
     "data": {
      "text/plain": [
       "array([2])"
      ]
     },
     "metadata": {},
     "execution_count": 15
    }
   ],
   "metadata": {}
  },
  {
   "cell_type": "code",
   "execution_count": null,
   "source": [],
   "outputs": [],
   "metadata": {}
  },
  {
   "cell_type": "code",
   "execution_count": 16,
   "source": [
    "# Test and Train\r\n",
    "from sklearn.model_selection import train_test_split"
   ],
   "outputs": [],
   "metadata": {}
  },
  {
   "cell_type": "code",
   "execution_count": 17,
   "source": [
    "x_train, x_test, y_train, y_test = train_test_split(x, y, test_size=0.2, train_size=0.8, random_state=88, shuffle=True, stratify=y)"
   ],
   "outputs": [],
   "metadata": {}
  },
  {
   "cell_type": "code",
   "execution_count": 18,
   "source": [
    "print(x_train)\r\n",
    "print(x_test)\r\n",
    "print(y_train)\r\n",
    "print(y_test)"
   ],
   "outputs": [
    {
     "output_type": "stream",
     "name": "stdout",
     "text": [
      "     sepal length (cm)  sepal width (cm)  petal length (cm)  petal width (cm)\n",
      "10                 5.4               3.7                1.5               0.2\n",
      "130                7.4               2.8                6.1               1.9\n",
      "46                 5.1               3.8                1.6               0.2\n",
      "58                 6.6               2.9                4.6               1.3\n",
      "12                 4.8               3.0                1.4               0.1\n",
      "..                 ...               ...                ...               ...\n",
      "64                 5.6               2.9                3.6               1.3\n",
      "97                 6.2               2.9                4.3               1.3\n",
      "134                6.1               2.6                5.6               1.4\n",
      "30                 4.8               3.1                1.6               0.2\n",
      "94                 5.6               2.7                4.2               1.3\n",
      "\n",
      "[120 rows x 4 columns]\n",
      "     sepal length (cm)  sepal width (cm)  petal length (cm)  petal width (cm)\n",
      "92                 5.8               2.6                4.0               1.2\n",
      "66                 5.6               3.0                4.5               1.5\n",
      "128                6.4               2.8                5.6               2.1\n",
      "126                6.2               2.8                4.8               1.8\n",
      "50                 7.0               3.2                4.7               1.4\n",
      "106                4.9               2.5                4.5               1.7\n",
      "74                 6.4               2.9                4.3               1.3\n",
      "111                6.4               2.7                5.3               1.9\n",
      "84                 5.4               3.0                4.5               1.5\n",
      "20                 5.4               3.4                1.7               0.2\n",
      "78                 6.0               2.9                4.5               1.5\n",
      "107                7.3               2.9                6.3               1.8\n",
      "143                6.8               3.2                5.9               2.3\n",
      "102                7.1               3.0                5.9               2.1\n",
      "109                7.2               3.6                6.1               2.5\n",
      "24                 4.8               3.4                1.9               0.2\n",
      "71                 6.1               2.8                4.0               1.3\n",
      "43                 5.0               3.5                1.6               0.6\n",
      "42                 4.4               3.2                1.3               0.2\n",
      "32                 5.2               4.1                1.5               0.1\n",
      "113                5.7               2.5                5.0               2.0\n",
      "5                  5.4               3.9                1.7               0.4\n",
      "120                6.9               3.2                5.7               2.3\n",
      "37                 4.9               3.6                1.4               0.1\n",
      "34                 4.9               3.1                1.5               0.2\n",
      "61                 5.9               3.0                4.2               1.5\n",
      "88                 5.6               3.0                4.1               1.3\n",
      "15                 5.7               4.4                1.5               0.4\n",
      "86                 6.7               3.1                4.7               1.5\n",
      "33                 5.5               4.2                1.4               0.2\n",
      "10     0\n",
      "130    2\n",
      "46     0\n",
      "58     1\n",
      "12     0\n",
      "      ..\n",
      "64     1\n",
      "97     1\n",
      "134    2\n",
      "30     0\n",
      "94     1\n",
      "Name: label, Length: 120, dtype: int32\n",
      "92     1\n",
      "66     1\n",
      "128    2\n",
      "126    2\n",
      "50     1\n",
      "106    2\n",
      "74     1\n",
      "111    2\n",
      "84     1\n",
      "20     0\n",
      "78     1\n",
      "107    2\n",
      "143    2\n",
      "102    2\n",
      "109    2\n",
      "24     0\n",
      "71     1\n",
      "43     0\n",
      "42     0\n",
      "32     0\n",
      "113    2\n",
      "5      0\n",
      "120    2\n",
      "37     0\n",
      "34     0\n",
      "61     1\n",
      "88     1\n",
      "15     0\n",
      "86     1\n",
      "33     0\n",
      "Name: label, dtype: int32\n"
     ]
    }
   ],
   "metadata": {}
  },
  {
   "cell_type": "code",
   "execution_count": 19,
   "source": [
    "# Test and Train Model\r\n",
    "from sklearn.neighbors import KNeighborsClassifier"
   ],
   "outputs": [],
   "metadata": {}
  },
  {
   "cell_type": "code",
   "execution_count": 20,
   "source": [
    "kNN = KNeighborsClassifier(n_neighbors = 5, metric = 'minkowski', p = 1)\r\n",
    "kNN.fit(x_train, y_train)"
   ],
   "outputs": [
    {
     "output_type": "execute_result",
     "data": {
      "text/plain": [
       "KNeighborsClassifier(p=1)"
      ]
     },
     "metadata": {},
     "execution_count": 20
    }
   ],
   "metadata": {}
  },
  {
   "cell_type": "code",
   "execution_count": 21,
   "source": [
    "x_predicted = kNN.predict(x_test)"
   ],
   "outputs": [],
   "metadata": {}
  },
  {
   "cell_type": "code",
   "execution_count": 22,
   "source": [
    "# Get Accuracy\r\n",
    "from sklearn.metrics import accuracy_score"
   ],
   "outputs": [],
   "metadata": {}
  },
  {
   "cell_type": "code",
   "execution_count": 23,
   "source": [
    "accuracy_score(y_test, x_predicted)"
   ],
   "outputs": [
    {
     "output_type": "execute_result",
     "data": {
      "text/plain": [
       "0.9666666666666667"
      ]
     },
     "metadata": {},
     "execution_count": 23
    }
   ],
   "metadata": {}
  },
  {
   "cell_type": "code",
   "execution_count": null,
   "source": [],
   "outputs": [],
   "metadata": {}
  },
  {
   "cell_type": "code",
   "execution_count": 24,
   "source": [
    "# Decision Tree\r\n",
    "from sklearn.tree import DecisionTreeClassifier\r\n",
    "from sklearn.metrics import accuracy_score"
   ],
   "outputs": [],
   "metadata": {}
  },
  {
   "cell_type": "code",
   "execution_count": 25,
   "source": [
    "dt = DecisionTreeClassifier()"
   ],
   "outputs": [],
   "metadata": {}
  },
  {
   "cell_type": "code",
   "execution_count": 26,
   "source": [
    "dt.fit(x_train, y_train)"
   ],
   "outputs": [
    {
     "output_type": "execute_result",
     "data": {
      "text/plain": [
       "DecisionTreeClassifier()"
      ]
     },
     "metadata": {},
     "execution_count": 26
    }
   ],
   "metadata": {}
  },
  {
   "cell_type": "code",
   "execution_count": 27,
   "source": [
    "x_predicted_dt = dt.predict(x_test)"
   ],
   "outputs": [],
   "metadata": {}
  },
  {
   "cell_type": "code",
   "execution_count": 28,
   "source": [
    "# Get Accuracy\r\n",
    "accuracy_score(y_test, x_predicted_dt)"
   ],
   "outputs": [
    {
     "output_type": "execute_result",
     "data": {
      "text/plain": [
       "0.9666666666666667"
      ]
     },
     "metadata": {},
     "execution_count": 28
    }
   ],
   "metadata": {}
  },
  {
   "cell_type": "code",
   "execution_count": null,
   "source": [],
   "outputs": [],
   "metadata": {}
  },
  {
   "cell_type": "code",
   "execution_count": 29,
   "source": [
    "# Cross Validation\r\n",
    "from sklearn.model_selection import cross_val_score"
   ],
   "outputs": [],
   "metadata": {}
  },
  {
   "cell_type": "code",
   "execution_count": 30,
   "source": [
    "scores_dt = cross_val_score(dt, x, y, cv=10)\r\n",
    "print(scores_dt)"
   ],
   "outputs": [
    {
     "output_type": "stream",
     "name": "stdout",
     "text": [
      "[1.         0.93333333 1.         0.93333333 0.93333333 0.86666667\n",
      " 0.93333333 0.93333333 1.         1.        ]\n"
     ]
    }
   ],
   "metadata": {}
  },
  {
   "cell_type": "code",
   "execution_count": null,
   "source": [],
   "outputs": [],
   "metadata": {}
  },
  {
   "cell_type": "code",
   "execution_count": 31,
   "source": [
    "# Naive Bayes Classifier\r\n",
    "from sklearn.naive_bayes import GaussianNB"
   ],
   "outputs": [],
   "metadata": {}
  },
  {
   "cell_type": "code",
   "execution_count": 32,
   "source": [
    "nb = GaussianNB()"
   ],
   "outputs": [],
   "metadata": {}
  },
  {
   "cell_type": "code",
   "execution_count": 33,
   "source": [
    "nb.fit(x_train, y_train)"
   ],
   "outputs": [
    {
     "output_type": "execute_result",
     "data": {
      "text/plain": [
       "GaussianNB()"
      ]
     },
     "metadata": {},
     "execution_count": 33
    }
   ],
   "metadata": {}
  },
  {
   "cell_type": "code",
   "execution_count": 34,
   "source": [
    "x_predicted_nb = nb.predict(x_test)"
   ],
   "outputs": [],
   "metadata": {}
  },
  {
   "cell_type": "code",
   "execution_count": 35,
   "source": [
    "accuracy_score(y_test, x_predicted_nb)"
   ],
   "outputs": [
    {
     "output_type": "execute_result",
     "data": {
      "text/plain": [
       "0.9666666666666667"
      ]
     },
     "metadata": {},
     "execution_count": 35
    }
   ],
   "metadata": {}
  },
  {
   "cell_type": "code",
   "execution_count": 36,
   "source": [
    "scores_nb = cross_val_score(nb, x, y, cv=10)\r\n",
    "print(scores_nb)"
   ],
   "outputs": [
    {
     "output_type": "stream",
     "name": "stdout",
     "text": [
      "[0.93333333 0.93333333 1.         0.93333333 0.93333333 0.93333333\n",
      " 0.86666667 1.         1.         1.        ]\n"
     ]
    }
   ],
   "metadata": {}
  },
  {
   "cell_type": "code",
   "execution_count": null,
   "source": [],
   "outputs": [],
   "metadata": {}
  },
  {
   "cell_type": "code",
   "execution_count": 37,
   "source": [
    "# Logistic Regression\r\n",
    "from sklearn.datasets import load_breast_cancer"
   ],
   "outputs": [],
   "metadata": {}
  },
  {
   "cell_type": "code",
   "execution_count": 38,
   "source": [
    "cancer_data = load_breast_cancer()"
   ],
   "outputs": [],
   "metadata": {}
  },
  {
   "cell_type": "code",
   "execution_count": 39,
   "source": [
    "x = cancer_data.data\r\n",
    "print(x)"
   ],
   "outputs": [
    {
     "output_type": "stream",
     "name": "stdout",
     "text": [
      "[[1.799e+01 1.038e+01 1.228e+02 ... 2.654e-01 4.601e-01 1.189e-01]\n",
      " [2.057e+01 1.777e+01 1.329e+02 ... 1.860e-01 2.750e-01 8.902e-02]\n",
      " [1.969e+01 2.125e+01 1.300e+02 ... 2.430e-01 3.613e-01 8.758e-02]\n",
      " ...\n",
      " [1.660e+01 2.808e+01 1.083e+02 ... 1.418e-01 2.218e-01 7.820e-02]\n",
      " [2.060e+01 2.933e+01 1.401e+02 ... 2.650e-01 4.087e-01 1.240e-01]\n",
      " [7.760e+00 2.454e+01 4.792e+01 ... 0.000e+00 2.871e-01 7.039e-02]]\n"
     ]
    }
   ],
   "metadata": {}
  },
  {
   "cell_type": "code",
   "execution_count": 40,
   "source": [
    "y = cancer_data.target\r\n",
    "print(y)"
   ],
   "outputs": [
    {
     "output_type": "stream",
     "name": "stdout",
     "text": [
      "[0 0 0 0 0 0 0 0 0 0 0 0 0 0 0 0 0 0 0 1 1 1 0 0 0 0 0 0 0 0 0 0 0 0 0 0 0\n",
      " 1 0 0 0 0 0 0 0 0 1 0 1 1 1 1 1 0 0 1 0 0 1 1 1 1 0 1 0 0 1 1 1 1 0 1 0 0\n",
      " 1 0 1 0 0 1 1 1 0 0 1 0 0 0 1 1 1 0 1 1 0 0 1 1 1 0 0 1 1 1 1 0 1 1 0 1 1\n",
      " 1 1 1 1 1 1 0 0 0 1 0 0 1 1 1 0 0 1 0 1 0 0 1 0 0 1 1 0 1 1 0 1 1 1 1 0 1\n",
      " 1 1 1 1 1 1 1 1 0 1 1 1 1 0 0 1 0 1 1 0 0 1 1 0 0 1 1 1 1 0 1 1 0 0 0 1 0\n",
      " 1 0 1 1 1 0 1 1 0 0 1 0 0 0 0 1 0 0 0 1 0 1 0 1 1 0 1 0 0 0 0 1 1 0 0 1 1\n",
      " 1 0 1 1 1 1 1 0 0 1 1 0 1 1 0 0 1 0 1 1 1 1 0 1 1 1 1 1 0 1 0 0 0 0 0 0 0\n",
      " 0 0 0 0 0 0 0 1 1 1 1 1 1 0 1 0 1 1 0 1 1 0 1 0 0 1 1 1 1 1 1 1 1 1 1 1 1\n",
      " 1 0 1 1 0 1 0 1 1 1 1 1 1 1 1 1 1 1 1 1 1 0 1 1 1 0 1 0 1 1 1 1 0 0 0 1 1\n",
      " 1 1 0 1 0 1 0 1 1 1 0 1 1 1 1 1 1 1 0 0 0 1 1 1 1 1 1 1 1 1 1 1 0 0 1 0 0\n",
      " 0 1 0 0 1 1 1 1 1 0 1 1 1 1 1 0 1 1 1 0 1 1 0 0 1 1 1 1 1 1 0 1 1 1 1 1 1\n",
      " 1 0 1 1 1 1 1 0 1 1 0 1 1 1 1 1 1 1 1 1 1 1 1 0 1 0 0 1 0 1 1 1 1 1 0 1 1\n",
      " 0 1 0 1 1 0 1 0 1 1 1 1 1 1 1 1 0 0 1 1 1 1 1 1 0 1 1 1 1 1 1 1 1 1 1 0 1\n",
      " 1 1 1 1 1 1 0 1 0 1 1 0 1 1 1 1 1 0 0 1 0 1 0 1 1 1 1 1 0 1 1 0 1 0 1 0 0\n",
      " 1 1 1 0 1 1 1 1 1 1 1 1 1 1 1 0 1 0 0 1 1 1 1 1 1 1 1 1 1 1 1 1 1 1 1 1 1\n",
      " 1 1 1 1 1 1 1 0 0 0 0 0 0 1]\n"
     ]
    }
   ],
   "metadata": {
    "scrolled": true
   }
  },
  {
   "cell_type": "code",
   "execution_count": 41,
   "source": [
    "from sklearn.model_selection import train_test_split"
   ],
   "outputs": [],
   "metadata": {}
  },
  {
   "cell_type": "code",
   "execution_count": 42,
   "source": [
    "x_train, x_test, y_train, y_test = train_test_split(x, y, test_size=0.3, train_size=0.7, random_state=88)\r\n",
    "print(x_train)\r\n",
    "print(x_test)\r\n",
    "print(y_train)\r\n",
    "print(y_test)"
   ],
   "outputs": [
    {
     "output_type": "stream",
     "name": "stdout",
     "text": [
      "[[1.955e+01 2.321e+01 1.289e+02 ... 1.825e-01 2.576e-01 7.602e-02]\n",
      " [1.669e+01 2.020e+01 1.071e+02 ... 8.737e-02 4.677e-01 7.623e-02]\n",
      " [1.499e+01 2.520e+01 9.554e+01 ... 2.899e-02 1.565e-01 5.504e-02]\n",
      " ...\n",
      " [1.276e+01 1.884e+01 8.187e+01 ... 8.312e-02 2.744e-01 7.238e-02]\n",
      " [1.882e+01 2.197e+01 1.237e+02 ... 1.708e-01 3.007e-01 8.314e-02]\n",
      " [1.126e+01 1.996e+01 7.372e+01 ... 9.314e-02 2.955e-01 7.009e-02]]\n",
      "[[9.676e+00 1.314e+01 6.412e+01 ... 1.075e-01 2.848e-01 1.364e-01]\n",
      " [1.706e+01 2.100e+01 1.118e+02 ... 1.827e-01 2.623e-01 7.599e-02]\n",
      " [9.742e+00 1.567e+01 6.150e+01 ... 5.159e-02 2.841e-01 8.175e-02]\n",
      " ...\n",
      " [1.476e+01 1.474e+01 9.487e+01 ... 1.251e-01 3.109e-01 8.187e-02]\n",
      " [1.907e+01 2.481e+01 1.283e+02 ... 2.493e-01 4.670e-01 1.038e-01]\n",
      " [1.371e+01 1.868e+01 8.873e+01 ... 1.284e-01 2.849e-01 9.031e-02]]\n",
      "[0 0 0 1 1 1 0 0 1 1 1 0 0 1 0 1 1 0 0 1 1 1 0 1 1 1 1 1 1 1 0 1 1 1 1 1 1\n",
      " 0 1 0 1 0 0 1 1 1 0 0 0 0 0 0 1 1 1 0 1 1 1 1 1 0 0 0 1 1 0 0 1 0 1 1 1 0\n",
      " 1 1 0 1 1 1 1 0 1 1 0 1 1 1 0 0 1 1 0 1 0 1 0 1 1 1 0 0 1 0 1 0 1 1 0 1 0\n",
      " 1 0 1 0 1 0 1 1 1 1 1 0 0 1 1 0 0 0 1 0 1 1 0 0 1 1 0 0 1 1 1 0 1 0 0 1 1\n",
      " 1 1 1 0 1 1 1 0 1 1 1 1 0 1 1 0 1 0 0 1 1 1 1 0 0 0 0 1 1 1 0 0 0 1 0 0 0\n",
      " 1 1 0 0 1 1 0 1 1 1 0 1 1 1 0 1 1 1 1 1 0 0 1 0 1 0 0 0 1 0 0 0 0 1 1 0 1\n",
      " 1 1 0 0 0 0 1 0 0 1 0 1 0 1 0 1 1 1 1 1 1 0 1 1 1 1 1 1 0 1 0 0 1 1 1 1 1\n",
      " 0 1 0 1 1 0 1 1 1 0 1 1 1 0 1 1 1 1 0 1 0 0 1 1 0 0 0 0 1 0 0 1 1 1 1 1 0\n",
      " 1 1 1 0 1 0 0 1 1 1 0 1 1 0 0 1 1 0 1 1 1 1 1 1 0 0 1 1 1 0 1 0 0 0 1 0 1\n",
      " 0 1 0 0 1 0 1 1 1 1 1 1 0 1 1 1 1 1 1 1 1 0 1 1 1 1 1 0 1 1 0 1 0 1 1 1 1\n",
      " 1 1 0 0 0 1 0 1 1 0 0 1 1 0 1 0 1 1 1 1 1 0 0 0 1 1 0 1]\n",
      "[1 0 1 0 1 1 0 1 0 0 1 1 0 0 0 0 0 1 1 1 1 0 1 1 1 1 1 1 1 0 0 0 1 1 0 1 1\n",
      " 1 1 1 0 1 0 1 1 1 1 1 0 1 1 0 1 1 1 1 0 1 1 1 1 0 1 1 0 0 1 1 1 1 1 0 1 1\n",
      " 0 1 1 1 1 1 0 1 1 0 1 0 1 1 1 0 1 1 1 0 0 1 0 0 1 1 1 1 0 1 0 1 1 0 0 1 1\n",
      " 0 1 0 1 1 1 1 1 1 1 1 0 0 1 1 1 1 1 0 1 0 0 0 1 0 0 1 1 1 1 1 1 1 1 1 1 1\n",
      " 0 0 1 0 0 1 1 1 0 1 1 0 1 1 0 0 1 1 0 1 1 0 1]\n"
     ]
    }
   ],
   "metadata": {}
  },
  {
   "cell_type": "code",
   "execution_count": 43,
   "source": [
    "from sklearn.linear_model import LogisticRegression"
   ],
   "outputs": [],
   "metadata": {}
  },
  {
   "cell_type": "code",
   "execution_count": 44,
   "source": [
    "lr = LogisticRegression()"
   ],
   "outputs": [],
   "metadata": {}
  },
  {
   "cell_type": "code",
   "execution_count": 45,
   "source": [
    "lr.fit(x_train, y_train)"
   ],
   "outputs": [
    {
     "output_type": "stream",
     "name": "stderr",
     "text": [
      "C:\\Python39\\Lib\\site-packages\\sklearn\\linear_model\\_logistic.py:763: ConvergenceWarning: lbfgs failed to converge (status=1):\n",
      "STOP: TOTAL NO. of ITERATIONS REACHED LIMIT.\n",
      "\n",
      "Increase the number of iterations (max_iter) or scale the data as shown in:\n",
      "    https://scikit-learn.org/stable/modules/preprocessing.html\n",
      "Please also refer to the documentation for alternative solver options:\n",
      "    https://scikit-learn.org/stable/modules/linear_model.html#logistic-regression\n",
      "  n_iter_i = _check_optimize_result(\n"
     ]
    },
    {
     "output_type": "execute_result",
     "data": {
      "text/plain": [
       "LogisticRegression()"
      ]
     },
     "metadata": {},
     "execution_count": 45
    }
   ],
   "metadata": {}
  },
  {
   "cell_type": "code",
   "execution_count": 46,
   "source": [
    "lr_predicted = lr.predict(x_test)"
   ],
   "outputs": [],
   "metadata": {}
  },
  {
   "cell_type": "code",
   "execution_count": 47,
   "source": [
    "accuracy_score(y_test, lr_predicted)"
   ],
   "outputs": [
    {
     "output_type": "execute_result",
     "data": {
      "text/plain": [
       "0.9532163742690059"
      ]
     },
     "metadata": {},
     "execution_count": 47
    }
   ],
   "metadata": {}
  },
  {
   "cell_type": "code",
   "execution_count": null,
   "source": [],
   "outputs": [],
   "metadata": {}
  },
  {
   "cell_type": "code",
   "execution_count": 48,
   "source": [
    "# Evaluation Metrics\r\n",
    "# 1. Confusion Matrix\r\n",
    "from sklearn.metrics import confusion_matrix, classification_report"
   ],
   "outputs": [],
   "metadata": {}
  },
  {
   "cell_type": "code",
   "execution_count": 49,
   "source": [
    "conf_mat = confusion_matrix(y_test, lr_predicted)\r\n",
    "print(conf_mat)"
   ],
   "outputs": [
    {
     "output_type": "stream",
     "name": "stdout",
     "text": [
      "[[ 54   3]\n",
      " [  5 109]]\n"
     ]
    }
   ],
   "metadata": {}
  },
  {
   "cell_type": "code",
   "execution_count": 50,
   "source": [
    "class_rep = classification_report(y_test, lr_predicted)\r\n",
    "print(class_rep)"
   ],
   "outputs": [
    {
     "output_type": "stream",
     "name": "stdout",
     "text": [
      "              precision    recall  f1-score   support\n",
      "\n",
      "           0       0.92      0.95      0.93        57\n",
      "           1       0.97      0.96      0.96       114\n",
      "\n",
      "    accuracy                           0.95       171\n",
      "   macro avg       0.94      0.95      0.95       171\n",
      "weighted avg       0.95      0.95      0.95       171\n",
      "\n"
     ]
    }
   ],
   "metadata": {}
  },
  {
   "cell_type": "code",
   "execution_count": null,
   "source": [],
   "outputs": [],
   "metadata": {}
  },
  {
   "cell_type": "code",
   "execution_count": 51,
   "source": [
    "# 2. ROC Curve\r\n",
    "from sklearn.metrics import roc_curve"
   ],
   "outputs": [],
   "metadata": {}
  },
  {
   "cell_type": "code",
   "execution_count": 53,
   "source": [
    "y_prob = lr.predict_proba(x_test)\r\n",
    "print(y_prob)"
   ],
   "outputs": [
    {
     "output_type": "stream",
     "name": "stdout",
     "text": [
      "[[4.67681216e-04 9.99532319e-01]\n",
      " [9.99999991e-01 9.36809721e-09]\n",
      " [1.75002911e-03 9.98249971e-01]\n",
      " [1.00000000e+00 8.65128989e-11]\n",
      " [1.24673017e-03 9.98753270e-01]\n",
      " [5.13909621e-03 9.94860904e-01]\n",
      " [5.08207323e-01 4.91792677e-01]\n",
      " [5.42217006e-03 9.94577830e-01]\n",
      " [9.99999998e-01 1.98931919e-09]\n",
      " [9.99999570e-01 4.29748718e-07]\n",
      " [3.79068132e-03 9.96209319e-01]\n",
      " [5.13278752e-02 9.48672125e-01]\n",
      " [1.00000000e+00 3.52719305e-11]\n",
      " [9.99999664e-01 3.35683042e-07]\n",
      " [9.99894592e-01 1.05407831e-04]\n",
      " [9.99836058e-01 1.63942396e-04]\n",
      " [9.92188406e-01 7.81159440e-03]\n",
      " [1.17589698e-03 9.98824103e-01]\n",
      " [1.17450310e-03 9.98825497e-01]\n",
      " [1.82304129e-04 9.99817696e-01]\n",
      " [3.98927256e-04 9.99601073e-01]\n",
      " [9.99467501e-01 5.32498956e-04]\n",
      " [8.86590992e-01 1.13409008e-01]\n",
      " [3.82788522e-02 9.61721148e-01]\n",
      " [3.02716257e-02 9.69728374e-01]\n",
      " [1.98569622e-03 9.98014304e-01]\n",
      " [9.05374656e-05 9.99909463e-01]\n",
      " [1.33711184e-03 9.98662888e-01]\n",
      " [8.86922817e-04 9.99113077e-01]\n",
      " [2.77167963e-02 9.72283204e-01]\n",
      " [9.99996074e-01 3.92578507e-06]\n",
      " [1.00000000e+00 2.25188543e-23]\n",
      " [3.05854105e-01 6.94145895e-01]\n",
      " [1.81933370e-03 9.98180666e-01]\n",
      " [2.11144283e-01 7.88855717e-01]\n",
      " [7.59032971e-03 9.92409670e-01]\n",
      " [4.42653239e-02 9.55734676e-01]\n",
      " [2.77914649e-03 9.97220854e-01]\n",
      " [3.67519282e-03 9.96324807e-01]\n",
      " [1.90637821e-04 9.99809362e-01]\n",
      " [9.99999990e-01 9.68797235e-09]\n",
      " [1.78605062e-01 8.21394938e-01]\n",
      " [1.00000000e+00 4.22541470e-15]\n",
      " [5.74723978e-02 9.42527602e-01]\n",
      " [9.52717843e-01 4.72821569e-02]\n",
      " [3.43701251e-01 6.56298749e-01]\n",
      " [1.63496834e-03 9.98365032e-01]\n",
      " [8.13497545e-02 9.18650246e-01]\n",
      " [9.97669936e-01 2.33006427e-03]\n",
      " [9.68937420e-04 9.99031063e-01]\n",
      " [2.01948689e-03 9.97980513e-01]\n",
      " [9.08108341e-01 9.18916592e-02]\n",
      " [4.20528682e-03 9.95794713e-01]\n",
      " [2.80557615e-01 7.19442385e-01]\n",
      " [1.72242687e-02 9.82775731e-01]\n",
      " [1.74837886e-04 9.99825162e-01]\n",
      " [9.99957528e-01 4.24717593e-05]\n",
      " [3.07424100e-03 9.96925759e-01]\n",
      " [1.51913975e-03 9.98480860e-01]\n",
      " [3.64649584e-03 9.96353504e-01]\n",
      " [1.03036307e-02 9.89696369e-01]\n",
      " [9.67421235e-01 3.25787649e-02]\n",
      " [6.87343247e-04 9.99312657e-01]\n",
      " [4.17802742e-02 9.58219726e-01]\n",
      " [9.99992280e-01 7.71982156e-06]\n",
      " [9.99999974e-01 2.59862506e-08]\n",
      " [2.62233073e-01 7.37766927e-01]\n",
      " [3.00614013e-02 9.69938599e-01]\n",
      " [1.48687324e-03 9.98513127e-01]\n",
      " [9.93577413e-01 6.42258670e-03]\n",
      " [1.41877185e-04 9.99858123e-01]\n",
      " [1.00000000e+00 6.84110764e-11]\n",
      " [3.76383630e-03 9.96236164e-01]\n",
      " [9.19895484e-03 9.90801045e-01]\n",
      " [1.70477464e-01 8.29522536e-01]\n",
      " [1.54598639e-03 9.98454014e-01]\n",
      " [4.66076662e-03 9.95339233e-01]\n",
      " [2.76269110e-02 9.72373089e-01]\n",
      " [1.22260274e-03 9.98777397e-01]\n",
      " [2.32708802e-04 9.99767291e-01]\n",
      " [9.99999975e-01 2.47378491e-08]\n",
      " [2.44407626e-03 9.97555924e-01]\n",
      " [4.62740550e-02 9.53725945e-01]\n",
      " [9.99984441e-01 1.55588645e-05]\n",
      " [1.26613520e-03 9.98733865e-01]\n",
      " [9.99998485e-01 1.51528562e-06]\n",
      " [5.58860833e-02 9.44113917e-01]\n",
      " [6.63104929e-04 9.99336895e-01]\n",
      " [2.18917154e-02 9.78108285e-01]\n",
      " [9.99860366e-01 1.39634017e-04]\n",
      " [9.87698447e-03 9.90123016e-01]\n",
      " [8.74695207e-03 9.91253048e-01]\n",
      " [1.98006628e-02 9.80199337e-01]\n",
      " [9.99939822e-01 6.01775773e-05]\n",
      " [1.00000000e+00 6.71030556e-25]\n",
      " [1.59351928e-01 8.40648072e-01]\n",
      " [9.99997684e-01 2.31575085e-06]\n",
      " [9.72299400e-01 2.77006000e-02]\n",
      " [2.56552914e-02 9.74344709e-01]\n",
      " [3.84227029e-02 9.61577297e-01]\n",
      " [2.35400451e-02 9.76459955e-01]\n",
      " [4.76608425e-02 9.52339158e-01]\n",
      " [9.78467468e-01 2.15325321e-02]\n",
      " [8.75044406e-04 9.99124956e-01]\n",
      " [1.00000000e+00 3.65032027e-17]\n",
      " [3.35807615e-01 6.64192385e-01]\n",
      " [5.98595939e-03 9.94014041e-01]\n",
      " [9.99934012e-01 6.59882636e-05]\n",
      " [9.99888152e-01 1.11847565e-04]\n",
      " [3.69194495e-01 6.30805505e-01]\n",
      " [3.87769224e-03 9.96122308e-01]\n",
      " [8.22940695e-01 1.77059305e-01]\n",
      " [1.18199350e-01 8.81800650e-01]\n",
      " [9.30747882e-01 6.92521178e-02]\n",
      " [3.08236946e-02 9.69176305e-01]\n",
      " [5.22864653e-02 9.47713535e-01]\n",
      " [1.28857192e-01 8.71142808e-01]\n",
      " [5.44804511e-02 9.45519549e-01]\n",
      " [2.11403783e-03 9.97885962e-01]\n",
      " [1.06795286e-02 9.89320471e-01]\n",
      " [1.45364447e-03 9.98546356e-01]\n",
      " [4.46276137e-02 9.55372386e-01]\n",
      " [9.97878123e-01 2.12187681e-03]\n",
      " [9.95376967e-01 4.62303286e-03]\n",
      " [3.19071546e-04 9.99680928e-01]\n",
      " [4.61495719e-02 9.53850428e-01]\n",
      " [3.03226919e-03 9.96967731e-01]\n",
      " [8.98739563e-03 9.91012604e-01]\n",
      " [1.15363683e-02 9.88463632e-01]\n",
      " [1.00000000e+00 2.08052334e-14]\n",
      " [8.05582270e-03 9.91944177e-01]\n",
      " [1.00000000e+00 5.76777932e-16]\n",
      " [1.00000000e+00 1.38650964e-23]\n",
      " [1.00000000e+00 2.97097581e-23]\n",
      " [3.11411408e-02 9.68858859e-01]\n",
      " [9.99991895e-01 8.10504963e-06]\n",
      " [9.99988756e-01 1.12436186e-05]\n",
      " [2.67042263e-01 7.32957737e-01]\n",
      " [1.43949974e-01 8.56050026e-01]\n",
      " [1.07681854e-03 9.98923181e-01]\n",
      " [1.61962731e-04 9.99838037e-01]\n",
      " [8.98356617e-03 9.91016434e-01]\n",
      " [4.73478336e-02 9.52652166e-01]\n",
      " [1.79346590e-04 9.99820653e-01]\n",
      " [7.31811204e-01 2.68188796e-01]\n",
      " [5.56807359e-04 9.99443193e-01]\n",
      " [1.23126223e-02 9.87687378e-01]\n",
      " [4.38632207e-02 9.56136779e-01]\n",
      " [1.00000000e+00 2.93096229e-33]\n",
      " [1.00000000e+00 4.88639652e-14]\n",
      " [4.00529131e-02 9.59947087e-01]\n",
      " [9.99997689e-01 2.31070703e-06]\n",
      " [9.99999998e-01 1.59808249e-09]\n",
      " [2.12687110e-04 9.99787313e-01]\n",
      " [1.55928217e-01 8.44071783e-01]\n",
      " [2.94907661e-01 7.05092339e-01]\n",
      " [9.99281995e-01 7.18004752e-04]\n",
      " [3.48352646e-01 6.51647354e-01]\n",
      " [8.77213906e-03 9.91227861e-01]\n",
      " [1.00000000e+00 1.79279623e-13]\n",
      " [6.61715299e-02 9.33828470e-01]\n",
      " [3.44354029e-02 9.65564597e-01]\n",
      " [1.00000000e+00 3.46260845e-12]\n",
      " [6.68426891e-01 3.31573109e-01]\n",
      " [9.69540040e-03 9.90304600e-01]\n",
      " [1.71628291e-03 9.98283717e-01]\n",
      " [9.90037954e-01 9.96204577e-03]\n",
      " [4.33756636e-03 9.95662434e-01]\n",
      " [5.27275054e-01 4.72724946e-01]\n",
      " [1.00000000e+00 5.06806223e-12]\n",
      " [6.70832219e-02 9.32916778e-01]]\n"
     ]
    }
   ],
   "metadata": {}
  },
  {
   "cell_type": "code",
   "execution_count": 54,
   "source": [
    "y_prob = y_prob[:, 1]\r\n",
    "print(y_prob)"
   ],
   "outputs": [
    {
     "output_type": "stream",
     "name": "stdout",
     "text": [
      "[9.99532319e-01 9.36809721e-09 9.98249971e-01 8.65128989e-11\n",
      " 9.98753270e-01 9.94860904e-01 4.91792677e-01 9.94577830e-01\n",
      " 1.98931919e-09 4.29748718e-07 9.96209319e-01 9.48672125e-01\n",
      " 3.52719305e-11 3.35683042e-07 1.05407831e-04 1.63942396e-04\n",
      " 7.81159440e-03 9.98824103e-01 9.98825497e-01 9.99817696e-01\n",
      " 9.99601073e-01 5.32498956e-04 1.13409008e-01 9.61721148e-01\n",
      " 9.69728374e-01 9.98014304e-01 9.99909463e-01 9.98662888e-01\n",
      " 9.99113077e-01 9.72283204e-01 3.92578507e-06 2.25188543e-23\n",
      " 6.94145895e-01 9.98180666e-01 7.88855717e-01 9.92409670e-01\n",
      " 9.55734676e-01 9.97220854e-01 9.96324807e-01 9.99809362e-01\n",
      " 9.68797235e-09 8.21394938e-01 4.22541470e-15 9.42527602e-01\n",
      " 4.72821569e-02 6.56298749e-01 9.98365032e-01 9.18650246e-01\n",
      " 2.33006427e-03 9.99031063e-01 9.97980513e-01 9.18916592e-02\n",
      " 9.95794713e-01 7.19442385e-01 9.82775731e-01 9.99825162e-01\n",
      " 4.24717593e-05 9.96925759e-01 9.98480860e-01 9.96353504e-01\n",
      " 9.89696369e-01 3.25787649e-02 9.99312657e-01 9.58219726e-01\n",
      " 7.71982156e-06 2.59862506e-08 7.37766927e-01 9.69938599e-01\n",
      " 9.98513127e-01 6.42258670e-03 9.99858123e-01 6.84110764e-11\n",
      " 9.96236164e-01 9.90801045e-01 8.29522536e-01 9.98454014e-01\n",
      " 9.95339233e-01 9.72373089e-01 9.98777397e-01 9.99767291e-01\n",
      " 2.47378491e-08 9.97555924e-01 9.53725945e-01 1.55588645e-05\n",
      " 9.98733865e-01 1.51528562e-06 9.44113917e-01 9.99336895e-01\n",
      " 9.78108285e-01 1.39634017e-04 9.90123016e-01 9.91253048e-01\n",
      " 9.80199337e-01 6.01775773e-05 6.71030556e-25 8.40648072e-01\n",
      " 2.31575085e-06 2.77006000e-02 9.74344709e-01 9.61577297e-01\n",
      " 9.76459955e-01 9.52339158e-01 2.15325321e-02 9.99124956e-01\n",
      " 3.65032027e-17 6.64192385e-01 9.94014041e-01 6.59882636e-05\n",
      " 1.11847565e-04 6.30805505e-01 9.96122308e-01 1.77059305e-01\n",
      " 8.81800650e-01 6.92521178e-02 9.69176305e-01 9.47713535e-01\n",
      " 8.71142808e-01 9.45519549e-01 9.97885962e-01 9.89320471e-01\n",
      " 9.98546356e-01 9.55372386e-01 2.12187681e-03 4.62303286e-03\n",
      " 9.99680928e-01 9.53850428e-01 9.96967731e-01 9.91012604e-01\n",
      " 9.88463632e-01 2.08052334e-14 9.91944177e-01 5.76777932e-16\n",
      " 1.38650964e-23 2.97097581e-23 9.68858859e-01 8.10504963e-06\n",
      " 1.12436186e-05 7.32957737e-01 8.56050026e-01 9.98923181e-01\n",
      " 9.99838037e-01 9.91016434e-01 9.52652166e-01 9.99820653e-01\n",
      " 2.68188796e-01 9.99443193e-01 9.87687378e-01 9.56136779e-01\n",
      " 2.93096229e-33 4.88639652e-14 9.59947087e-01 2.31070703e-06\n",
      " 1.59808249e-09 9.99787313e-01 8.44071783e-01 7.05092339e-01\n",
      " 7.18004752e-04 6.51647354e-01 9.91227861e-01 1.79279623e-13\n",
      " 9.33828470e-01 9.65564597e-01 3.46260845e-12 3.31573109e-01\n",
      " 9.90304600e-01 9.98283717e-01 9.96204577e-03 9.95662434e-01\n",
      " 4.72724946e-01 5.06806223e-12 9.32916778e-01]\n"
     ]
    }
   ],
   "metadata": {}
  },
  {
   "cell_type": "code",
   "execution_count": 55,
   "source": [
    "FPR, TPR, Thresholds = roc_curve(y_test, y_prob)"
   ],
   "outputs": [],
   "metadata": {}
  },
  {
   "cell_type": "code",
   "execution_count": 56,
   "source": [
    "plt.plot(FPR, TPR)\r\n",
    "plt.xlabel(\"FPR\")\r\n",
    "plt.ylabel(\"TPR\")\r\n",
    "plt.show()"
   ],
   "outputs": [
    {
     "output_type": "display_data",
     "data": {
      "image/png": "[encoded data removed]",
      "text/plain": [
       "<Figure size 432x288 with 1 Axes>"
      ]
     },
     "metadata": {
      "needs_background": "light"
     }
    }
   ],
   "metadata": {}
  },
  {
   "cell_type": "code",
   "execution_count": 58,
   "source": [
    "# AUC\r\n",
    "from sklearn.metrics import roc_auc_score"
   ],
   "outputs": [],
   "metadata": {}
  },
  {
   "cell_type": "code",
   "execution_count": 59,
   "source": [
    "roc_auc_score(y_test, y_prob)"
   ],
   "outputs": [
    {
     "output_type": "execute_result",
     "data": {
      "text/plain": [
       "0.9855340104647583"
      ]
     },
     "metadata": {},
     "execution_count": 59
    }
   ],
   "metadata": {}
  },
  {
   "cell_type": "code",
   "execution_count": null,
   "source": [],
   "outputs": [],
   "metadata": {}
  }
 ],
 "metadata": {
  "interpreter": {
   "hash": "63fd5069d213b44bf678585dea6b12cceca9941eaf7f819626cde1f2670de90d"
  },
  "kernelspec": {
   "name": "python3",
   "display_name": "Python 3.9.6 64-bit"
  },
  "language_info": {
   "codemirror_mode": {
    "name": "ipython",
    "version": 3
   },
   "file_extension": ".py",
   "mimetype": "text/x-python",
   "name": "python",
   "nbconvert_exporter": "python",
   "pygments_lexer": "ipython3",
   "version": "3.9.6"
  }
 },
 "nbformat": 4,
 "nbformat_minor": 5
}